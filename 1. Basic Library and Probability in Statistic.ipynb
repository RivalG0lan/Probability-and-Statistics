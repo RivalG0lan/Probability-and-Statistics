{
 "cells": [
  {
   "cell_type": "code",
   "execution_count": null,
   "id": "4f65d77d-ffcd-46cd-9322-4d660a3c0d03",
   "metadata": {},
   "outputs": [],
   "source": [
    "import numpy as np \n",
    "import pandas as pd\n",
    "import matplotib.pylot as plt\n",
    "import seaborn as sns\n",
    "import scipy import stats \n"
   ]
  },
  {
   "cell_type": "code",
   "execution_count": 1,
   "id": "8feba91c-0bbe-4393-be58-e2840c7f53aa",
   "metadata": {},
   "outputs": [
    {
     "name": "stdout",
     "output_type": "stream",
     "text": [
      "=== Probability Example ===\n",
      "Probability of rolling a 3: 0.16666666666666666 \n"
     ]
    }
   ],
   "source": [
    "favorable_outcomes = 1\n",
    "possible_outcomes = 6\n",
    "probability_rolling_3 = favorable_outcomes / possible_outcomes\n",
    "\n",
    "print(\"=== Probability Example ===\")\n",
    "print(f\"Probability of rolling a 3: {probability_rolling_3} \")\n"
   ]
  },
  {
   "cell_type": "code",
   "execution_count": null,
   "id": "7d5c5e1d-d548-42b9-a3ad-c76bbec59edd",
   "metadata": {},
   "outputs": [],
   "source": []
  }
 ],
 "metadata": {
  "kernelspec": {
   "display_name": "Python 3 (ipykernel)",
   "language": "python",
   "name": "python3"
  },
  "language_info": {
   "codemirror_mode": {
    "name": "ipython",
    "version": 3
   },
   "file_extension": ".py",
   "mimetype": "text/x-python",
   "name": "python",
   "nbconvert_exporter": "python",
   "pygments_lexer": "ipython3",
   "version": "3.13.0"
  }
 },
 "nbformat": 4,
 "nbformat_minor": 5
}
